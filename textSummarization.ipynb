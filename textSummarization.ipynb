{
  "nbformat": 4,
  "nbformat_minor": 0,
  "metadata": {
    "colab": {
      "name": "Copy of Welcome To Colaboratory",
      "provenance": [],
      "collapsed_sections": [],
      "toc_visible": true,
      "include_colab_link": true
    },
    "kernelspec": {
      "display_name": "Python 3",
      "name": "python3"
    }
  },
  "cells": [
    {
      "cell_type": "markdown",
      "metadata": {
        "id": "view-in-github",
        "colab_type": "text"
      },
      "source": [
        "<a href=\"https://colab.research.google.com/github/hasun/ProgrammingCI/blob/master/textSummarization.ipynb\" target=\"_parent\"><img src=\"https://colab.research.google.com/assets/colab-badge.svg\" alt=\"Open In Colab\"/></a>"
      ]
    },
    {
      "cell_type": "code",
      "metadata": {
        "id": "o6wPlyDQLdld",
        "colab": {
          "base_uri": "https://localhost:8080/"
        },
        "outputId": "bf962703-acbf-4297-bf19-11b0d4569a25"
      },
      "source": [
        "!pip install gensim"
      ],
      "execution_count": null,
      "outputs": [
        {
          "output_type": "stream",
          "text": [
            "Requirement already satisfied: gensim in /usr/local/lib/python3.7/dist-packages (3.6.0)\n",
            "Requirement already satisfied: numpy>=1.11.3 in /usr/local/lib/python3.7/dist-packages (from gensim) (1.19.5)\n",
            "Requirement already satisfied: six>=1.5.0 in /usr/local/lib/python3.7/dist-packages (from gensim) (1.15.0)\n",
            "Requirement already satisfied: smart-open>=1.2.1 in /usr/local/lib/python3.7/dist-packages (from gensim) (5.0.0)\n",
            "Requirement already satisfied: scipy>=0.18.1 in /usr/local/lib/python3.7/dist-packages (from gensim) (1.4.1)\n"
          ],
          "name": "stdout"
        }
      ]
    },
    {
      "cell_type": "code",
      "metadata": {
        "id": "sAz9N7dGLqWy"
      },
      "source": [
        "import gensim\n",
        "from gensim.summarization import summarize"
      ],
      "execution_count": null,
      "outputs": []
    },
    {
      "cell_type": "code",
      "metadata": {
        "id": "r59W5mWQLwrh"
      },
      "source": [
        "original_text = 'Junk foods taste good that’s why it is mostly liked by everyone of any age group especially kids and school going children. They generally ask for the junk food daily because they have been trend so by their parents from the childhood. They never have been discussed by their parents about the harmful effects of junk foods over health. According to the research by scientists, it has been found that junk foods have negative effects on the health in many ways. They are generally fried food found in the market in the packets. They become high in calories, high in cholesterol, low in healthy nutrients, high in sodium mineral, high in sugar, starch, unhealthy fat, lack of protein and lack of dietary fibers. Processed and junk foods are the means of rapid and unhealthy weight gain and negatively impact the whole body throughout the life. It makes able a person to gain excessive weight which is called as obesity. Junk foods tastes good and looks good however do not fulfil the healthy calorie requirement of the body. Some of the foods like french fries, fried foods, pizza, burgers, candy, soft drinks, baked goods, ice cream, cookies, etc are the example of high-sugar and high-fat containing foods. It is found according to the Centres for Disease Control and Prevention that Kids and children eating junk food are more prone to the type-2 diabetes. In type-2 diabetes our body become unable to regulate blood sugar level. Risk of getting this disease is increasing as one become more obese or overweight. It increases the risk of kidney failure. Eating junk food daily lead us to the nutritional deficiencies in the body because it is lack of essential nutrients, vitamins, iron, minerals and dietary fibers. It increases risk of cardiovascular diseases because it is rich in saturated fat, sodium and bad cholesterol. High sodium and bad cholesterol diet increases blood pressure and overloads the heart functioning. One who like junk food develop more risk to put on extra weight and become fatter and unhealthier. Junk foods contain high level carbohydrate which spike blood sugar level and make person more lethargic, sleepy and less active and alert. Reflexes and senses of the people eating this food become dull day by day thus they live more sedentary life. Junk foods are the source of constipation and other disease like diabetes, heart ailments, clogged arteries, heart attack, strokes, etc because of being poor in nutrition. Junk food is the easiest way to gain unhealthy weight. The amount of fats and sugar in the food makes you gain weight rapidly. However, this is not a healthy weight. It is more of fats and cholesterol which will have a harmful impact on your health. Junk food is also one of the main reasons for the increase in obesity nowadays.This food only looks and tastes good, other than that, it has no positive points. The amount of calorie your body requires to stay fit is not fulfilled by this food. For instance, foods like French fries, burgers, candy, and cookies, all have high amounts of sugar and fats. Therefore, this can result in long-term illnesses like diabetes and high blood pressure. This may also result in kidney failure. Above all, you can get various nutritional deficiencies when you don’t consume the essential nutrients, vitamins, minerals and more. You become prone to cardiovascular diseases due to the consumption of bad cholesterol and fat plus sodium. In other words, all this interferes with the functioning of your heart. Furthermore, junk food contains a higher level of carbohydrates. It will instantly spike your blood sugar levels. This will result in lethargy, inactiveness, and sleepiness. A person reflex becomes dull overtime and they lead an inactive life. To make things worse, junk food also clogs your arteries and increases the risk of a heart attack. Therefore, it must be avoided at the first instance to save your life from becoming ruined.The main problem with junk food is that people don’t realize its ill effects now. When the time comes, it is too late. Most importantly, the issue is that it does not impact you instantly. It works on your overtime; you will face the consequences sooner or later. Thus, it is better to stop now.You can avoid junk food by encouraging your children from an early age to eat green vegetables. Their taste buds must be developed as such that they find healthy food tasty. Moreover, try to mix things up. Do not serve the same green vegetable daily in the same style. Incorporate different types of healthy food in their diet following different recipes. This will help them to try foods at home rather than being attracted to junk food.In short, do not deprive them completely of it as that will not help. Children will find one way or the other to have it. Make sure you give them junk food in limited quantities and at healthy periods of time. '"
      ],
      "execution_count": null,
      "outputs": []
    },
    {
      "cell_type": "code",
      "metadata": {
        "id": "iZQR1LVNL1ly",
        "colab": {
          "base_uri": "https://localhost:8080/"
        },
        "outputId": "f3a15ce1-290f-4547-f042-d153be4dcdaa"
      },
      "source": [
        "short_summary = summarize(original_text)\n",
        "print(short_summary)"
      ],
      "execution_count": null,
      "outputs": [
        {
          "output_type": "stream",
          "text": [
            "They become high in calories, high in cholesterol, low in healthy nutrients, high in sodium mineral, high in sugar, starch, unhealthy fat, lack of protein and lack of dietary fibers.\n",
            "Processed and junk foods are the means of rapid and unhealthy weight gain and negatively impact the whole body throughout the life.\n",
            "Junk foods tastes good and looks good however do not fulfil the healthy calorie requirement of the body.\n",
            "It is found according to the Centres for Disease Control and Prevention that Kids and children eating junk food are more prone to the type-2 diabetes.\n",
            "Eating junk food daily lead us to the nutritional deficiencies in the body because it is lack of essential nutrients, vitamins, iron, minerals and dietary fibers.\n",
            "It increases risk of cardiovascular diseases because it is rich in saturated fat, sodium and bad cholesterol.\n",
            "High sodium and bad cholesterol diet increases blood pressure and overloads the heart functioning.\n",
            "One who like junk food develop more risk to put on extra weight and become fatter and unhealthier.\n",
            "Junk foods contain high level carbohydrate which spike blood sugar level and make person more lethargic, sleepy and less active and alert.\n",
            "For instance, foods like French fries, burgers, candy, and cookies, all have high amounts of sugar and fats.\n"
          ],
          "name": "stdout"
        }
      ]
    },
    {
      "cell_type": "code",
      "metadata": {
        "id": "y10XxZm_L4ZU",
        "colab": {
          "base_uri": "https://localhost:8080/"
        },
        "outputId": "01c669f6-35a8-444e-fa5f-0e4cbb1a8654"
      },
      "source": [
        "summary_by_ratio=summarize(original_text,ratio=0.1)\n",
        "print(summary_by_ratio)"
      ],
      "execution_count": null,
      "outputs": [
        {
          "output_type": "stream",
          "text": [
            "They become high in calories, high in cholesterol, low in healthy nutrients, high in sodium mineral, high in sugar, starch, unhealthy fat, lack of protein and lack of dietary fibers.\n",
            "Processed and junk foods are the means of rapid and unhealthy weight gain and negatively impact the whole body throughout the life.\n",
            "Eating junk food daily lead us to the nutritional deficiencies in the body because it is lack of essential nutrients, vitamins, iron, minerals and dietary fibers.\n",
            "It increases risk of cardiovascular diseases because it is rich in saturated fat, sodium and bad cholesterol.\n",
            "High sodium and bad cholesterol diet increases blood pressure and overloads the heart functioning.\n"
          ],
          "name": "stdout"
        }
      ]
    },
    {
      "cell_type": "code",
      "metadata": {
        "id": "E63g37spMJQ1",
        "colab": {
          "base_uri": "https://localhost:8080/"
        },
        "outputId": "e50f852d-4232-4f1a-a126-385ac6ba1c3b"
      },
      "source": [
        "summary_by_word_count=summarize(original_text,word_count=30)\n",
        "print(summary_by_word_count)"
      ],
      "execution_count": null,
      "outputs": [
        {
          "output_type": "stream",
          "text": [
            "They become high in calories, high in cholesterol, low in healthy nutrients, high in sodium mineral, high in sugar, starch, unhealthy fat, lack of protein and lack of dietary fibers.\n"
          ],
          "name": "stdout"
        }
      ]
    },
    {
      "cell_type": "code",
      "metadata": {
        "id": "oprnEF9FMPG_",
        "colab": {
          "base_uri": "https://localhost:8080/"
        },
        "outputId": "ca084909-d1fe-4f49-d39a-8bc6fae4e57f"
      },
      "source": [
        "!pip install sumy\n",
        "import sumy"
      ],
      "execution_count": null,
      "outputs": [
        {
          "output_type": "stream",
          "text": [
            "Collecting sumy\n",
            "\u001b[?25l  Downloading https://files.pythonhosted.org/packages/61/20/8abf92617ec80a2ebaec8dc1646a790fc9656a4a4377ddb9f0cc90bc9326/sumy-0.8.1-py2.py3-none-any.whl (83kB)\n",
            "\r\u001b[K     |████                            | 10kB 14.7MB/s eta 0:00:01\r\u001b[K     |███████▉                        | 20kB 21.0MB/s eta 0:00:01\r\u001b[K     |███████████▊                    | 30kB 11.7MB/s eta 0:00:01\r\u001b[K     |███████████████▋                | 40kB 8.4MB/s eta 0:00:01\r\u001b[K     |███████████████████▌            | 51kB 5.1MB/s eta 0:00:01\r\u001b[K     |███████████████████████▍        | 61kB 5.6MB/s eta 0:00:01\r\u001b[K     |███████████████████████████▍    | 71kB 6.0MB/s eta 0:00:01\r\u001b[K     |███████████████████████████████▎| 81kB 6.4MB/s eta 0:00:01\r\u001b[K     |████████████████████████████████| 92kB 4.5MB/s \n",
            "\u001b[?25hCollecting breadability>=0.1.20\n",
            "  Downloading https://files.pythonhosted.org/packages/ad/2d/bb6c9b381e6b6a432aa2ffa8f4afdb2204f1ff97cfcc0766a5b7683fec43/breadability-0.1.20.tar.gz\n",
            "Requirement already satisfied: requests>=2.7.0 in /usr/local/lib/python3.7/dist-packages (from sumy) (2.23.0)\n",
            "Requirement already satisfied: nltk>=3.0.2 in /usr/local/lib/python3.7/dist-packages (from sumy) (3.2.5)\n",
            "Collecting pycountry>=18.2.23\n",
            "\u001b[?25l  Downloading https://files.pythonhosted.org/packages/76/73/6f1a412f14f68c273feea29a6ea9b9f1e268177d32e0e69ad6790d306312/pycountry-20.7.3.tar.gz (10.1MB)\n",
            "\u001b[K     |████████████████████████████████| 10.1MB 33.5MB/s \n",
            "\u001b[?25hRequirement already satisfied: docopt<0.7,>=0.6.1 in /usr/local/lib/python3.7/dist-packages (from sumy) (0.6.2)\n",
            "Requirement already satisfied: chardet in /usr/local/lib/python3.7/dist-packages (from breadability>=0.1.20->sumy) (3.0.4)\n",
            "Requirement already satisfied: lxml>=2.0 in /usr/local/lib/python3.7/dist-packages (from breadability>=0.1.20->sumy) (4.2.6)\n",
            "Requirement already satisfied: certifi>=2017.4.17 in /usr/local/lib/python3.7/dist-packages (from requests>=2.7.0->sumy) (2020.12.5)\n",
            "Requirement already satisfied: idna<3,>=2.5 in /usr/local/lib/python3.7/dist-packages (from requests>=2.7.0->sumy) (2.10)\n",
            "Requirement already satisfied: urllib3!=1.25.0,!=1.25.1,<1.26,>=1.21.1 in /usr/local/lib/python3.7/dist-packages (from requests>=2.7.0->sumy) (1.24.3)\n",
            "Requirement already satisfied: six in /usr/local/lib/python3.7/dist-packages (from nltk>=3.0.2->sumy) (1.15.0)\n",
            "Building wheels for collected packages: breadability, pycountry\n",
            "  Building wheel for breadability (setup.py) ... \u001b[?25l\u001b[?25hdone\n",
            "  Created wheel for breadability: filename=breadability-0.1.20-py2.py3-none-any.whl size=21680 sha256=b6bd4f8554bb731cdb438dc992e9b91370529c7cd995e2209996d16109171dd4\n",
            "  Stored in directory: /root/.cache/pip/wheels/5a/4d/a1/510b12c5e65e0b2b3ce539b2af66da0fc57571e528924f4a52\n",
            "  Building wheel for pycountry (setup.py) ... \u001b[?25l\u001b[?25hdone\n",
            "  Created wheel for pycountry: filename=pycountry-20.7.3-py2.py3-none-any.whl size=10746863 sha256=a0b643c1bb84d7a065b7924117f23576e6229db120bdba3104975dabf4597b87\n",
            "  Stored in directory: /root/.cache/pip/wheels/33/4e/a6/be297e6b83567e537bed9df4a93f8590ec01c1acfbcd405348\n",
            "Successfully built breadability pycountry\n",
            "Installing collected packages: breadability, pycountry, sumy\n",
            "Successfully installed breadability-0.1.20 pycountry-20.7.3 sumy-0.8.1\n"
          ],
          "name": "stdout"
        }
      ]
    },
    {
      "cell_type": "code",
      "metadata": {
        "id": "KU5lLAWoMhJf"
      },
      "source": [
        "# Importing the parser and tokenizer\n",
        "from sumy.parsers.plaintext import PlaintextParser\n",
        "from sumy.nlp.tokenizers import Tokenizer"
      ],
      "execution_count": null,
      "outputs": []
    },
    {
      "cell_type": "code",
      "metadata": {
        "id": "g9Yd5usFMuR7"
      },
      "source": [
        "# Import the LexRank summarizer\n",
        "from sumy.summarizers.lex_rank import LexRankSummarizer"
      ],
      "execution_count": null,
      "outputs": []
    },
    {
      "cell_type": "code",
      "metadata": {
        "id": "OX5vzXu1M5pw",
        "colab": {
          "base_uri": "https://localhost:8080/"
        },
        "outputId": "28109b9d-9226-471c-a007-6cba89774750"
      },
      "source": [
        "import nltk\n",
        "nltk.download('punkt')"
      ],
      "execution_count": null,
      "outputs": [
        {
          "output_type": "stream",
          "text": [
            "[nltk_data] Downloading package punkt to /root/nltk_data...\n",
            "[nltk_data]   Unzipping tokenizers/punkt.zip.\n"
          ],
          "name": "stdout"
        },
        {
          "output_type": "execute_result",
          "data": {
            "text/plain": [
              "True"
            ]
          },
          "metadata": {
            "tags": []
          },
          "execution_count": 13
        }
      ]
    },
    {
      "cell_type": "code",
      "metadata": {
        "id": "CKgErkd6Mw9C"
      },
      "source": [
        "# Initializing the parser\n",
        "article_content =  \"네. 노동신문 5월 28일자 1면에 수록된 사회주의건설의 새로운 고조기, 격변기를 열어나가기 위한 보람찬 투쟁에서 직업동맹의 위력을 힘있게 떨치자”라는 사설입니다. 이 사설은 지난 5월 25일 직업동맹 제8차대회에 보낸 김정은의 서한은 직업동맹이 노동계급과 직맹원들을 전위투사로 키우는 사상교양단체, 새시대의 혁명적 진군을 적극 추동해나가는 전위부대로서의 사명과 임무를 훌륭히 수행해 나갈 수 있게 하는 강령적 지침”이라고 주장했습니다. 김정은은 이 서한에서 ①전(全) 동맹을 당의 혁명사상으로 일색화하고, ②동맹원들이 조직규률을 엄수하도록 요구성을 높이며, ③직맹일군들이 뜨거운 동지애, 인간애를 지니고 사업과 생활을 친형제의 심정으로 돌봐줄데 대한 문제”를 ‘동맹사업의 개선방향과 방도’로 제기했다고 전했습니다. 그리고 전체 노동계급과 직맹원들에게 ①김정은 동지의 사상과 영도를 충성으로 받들고, ②국가경제발전 5개년계획수행에서 맏아들, 전위부대로서 역할을 훌륭히 수행하며, ③전후복구와 천리마대고조시기 투쟁정신으로 오늘의 총진군을 다그쳐 나가고, ④직맹조직들의 역할을 더욱 높일 것을 ‘전투적 과업’으로 제시했다고 적었습니다. 이번 사설은 직업동맹을 노동계급과 맹원들을 전위투사로 키우는 사상교양단체, 혁명적 진군을 추동하는 전위부대”로 규정해, 직업동맹의  ‘정치적 성격’을 두드러지게 강조했습니다. 관련 내용을 좀더 구체적으로 짚어 주실까요? 이번 사설은 김정은의 말을 인용해 직업동맹은 로동계급과 직맹원들을 당에 대한 충실성과 조국과 혁명에 대한 무한한 헌신성, 조직성과 전투력, 단결력을 지닌 전위투사로 키우는 데 모든 사업을 지향시키며, 동맹사업에서 근본적인 전환을 일으켜, 새시대의 혁명적 진군에서 자기의 전투적 위력을 높이 떨쳐야 한다”고 주장했습니다. 직업동맹이 당과 조국, 혁명에 충실한 조직이 될 것을 명령한 것입니다. 또한 이번 대회에 참가한 노동계급과 맹원들은 수령에 대한 충실성을 제일생명으로 간직하고 주체혁명의 선봉부대로서의 영예를 남김없이 떨쳐온 자랑찬 전통을 이어, 맡겨진 책임과 본분을 다해나가려는 것”이 한결같은 의지였다고 선전했습니다. 북한의 직업동맹은 자유민주주의국가의 노동조합에 해당합니다. 노동조합의 본래 임무는 조합원들의 이익을 대변하고 근로조건과 근로환경을 개선하는 데 있습니다. 북한 직업동맹이 해야할 일은 맹원들의 사회, 경제적 지위향상과 권익옹호를 위해 투쟁하는 것입니다. 이번 사설이 직업동맹의 ‘노동조합’적 고유 역할과 기능을 철저히 부정한 채, 김정은과 당, 조국과 혁명을 위한 사상교양 및 전위활동을 강조한 것은 반(反)노동자계급적 처사가 아닐 수 없습니다. 이번 사설은 직맹조직들이 사상교양임무를 다해나갈 때 노동계급과 직맹원들을 혁명화, 공산화된 근로자들로 준비시키고, 혁명과업도 훌륭히 수행할 수 있다”고 주장했습니다. 북한의 정치사상위주의 ‘직업동맹 정책’을 어떻게 생각하십니까? 김정은은 직업동맹 제8차대회 서한에서 ①노동계급과 직업동맹원들을 공산주의적 신념의 소유자들로 준비시키고, ②5개년계획수행의 전위부대로서 자력갱생의 선봉투사, 창조의 기수들로 준비시키며, ③고상한 도덕과 높은 문화적 소양을 지닌 사회주의문명의 체현자들로 만들 것을 요구했습니다. 하지만 노동계급과 직업동맹원들에 대한 처우개선과 생활안정 및 향상에 관한 내용은 없습니다. 오직 노동계급과 직업동맹원들의 육체적, 정신적 희생만 요구했을 뿐입니다. 북한은 직업동맹이 1945년 11월 30일 출범한 이래 어떻게 하면 직맹원들의 노동력을 효율적으로 착취하고, 수령과 독재정권 유지에 필요한 정치단체로 강화할 것인가에 집중해왔습니다. 이제는 직업동맹을 순수한 ‘노동조합조직’으로 전환하는 정책결단에 나서야 합니다. 직업동맹의 독립성과 자율성 확보, 북한 노동자들의 권익신장없이, 북한 경제회생은 불가능합니다. 북한 통치집단은 직업동맹에게 김정은에 대한 ‘충실성 교양’과 전(全) 동맹에 대한 ‘당 사상의 일색화’에 나설 것을 주문했습니다. 직업동맹의 사상교육사업을 강조하고 나선 이유와 배경은 무엇이라고 생각하시는지요. 북한 통지집단은 지난 75년 동안, 수령의 지시와 당노선 및 정책을 무조건 따라오면 ‘공산주의 이상사회’에 들어갈 수있다며 노동자들을 속여왔습니다. 그러나 이런 공산주의사회 실현은 불가능합니다. 북한은 1961년 이후 추진했던 모든 경제계획에서 목표를 달성하는 데 실패했습니다. 현재 추진하고 있는 ‘5개년계획’은 제7차당대회 이후 추진했던 ‘국가경제발전 5개년계획’이 실패로 끝남에 따라 경제전반을 정비하고 조정하는 일에 불과합니다. 고질병이 된 북한의 경제실패는 노동자들의 반체제투쟁으로 이어질 수 있습니다. 직업동맹의 노동자계급과 직맹원들에 대한 사상사업 강화요구는 그 핵심이 ‘체제불만세력의 응집과 인민항쟁’으로 발전되는 것을 막기 위한 고육지책의 하나로 해석됩니다. 이번 사설은 직업동맹원들에게 총비서의 사상과 권위를 결사옹위하는데서 맹수가 되고 천겹만겹의 성새, 방패가 되어야 한다”며, 김정은에 대한 일방적인 충성을 촉구했습니다. 주민들은 이런 ‘요설’을 어떻게 받아들일 것으로 생각하십니까? 정상적인 나라 지도자는 노동자들에게 ‘결사옹위’를 강요하지 않습니다. 반대로 지도자가 노동자들의 정치적 권리와 사회, 경제적 지위향상을 위해 최선을 다하고  그 결과를 보고합니다. 약속을 지키지 못한 경우 공개사과까지 합니다. 북한의 노동계급과 직맹원들은 지난 75년동안 잊고 살아온 ‘정당한 권익’을 지금이라도 되찾아, 제대로 영위해야 마땅합니다. 북한 주민들은 ‘김정은 결사옹위의 맹수 및 방패되기’를 강요하는 노동신문의 ‘파렴치한 주장’을 결코 받아들일 수 없을 것입니다.\"\n",
        "my_parser = PlaintextParser.from_string(article_content,Tokenizer('english'))"
      ],
      "execution_count": null,
      "outputs": []
    },
    {
      "cell_type": "code",
      "metadata": {
        "id": "mhCCPLg5M0LK",
        "colab": {
          "base_uri": "https://localhost:8080/"
        },
        "outputId": "c71f713a-ed12-41b2-f158-57a1176de85b"
      },
      "source": [
        "# Creating a summary of 3 sentences.\n",
        "lex_rank_summarizer = LexRankSummarizer()\n",
        "lexrank_summary = lex_rank_summarizer(my_parser.document,sentences_count=3)\n",
        "\n",
        "# Printing the summary\n",
        "for sentence in lexrank_summary:\n",
        "  print(sentence)"
      ],
      "execution_count": null,
      "outputs": [
        {
          "output_type": "stream",
          "text": [
            "북한 직업동맹이 해야할 일은 맹원들의 사회, 경제적 지위향상과 권익옹호를 위해 투쟁하는 것입니다.\n",
            "북한의 정치사상위주의 ‘직업동맹 정책’을 어떻게 생각하십니까?\n",
            "주민들은 이런 ‘요설’을 어떻게 받아들일 것으로 생각하십니까?\n"
          ],
          "name": "stdout"
        }
      ]
    },
    {
      "cell_type": "code",
      "metadata": {
        "id": "M8yTMnmLWcfI"
      },
      "source": [
        ""
      ],
      "execution_count": null,
      "outputs": []
    },
    {
      "cell_type": "code",
      "metadata": {
        "id": "BQSNBspxNAqR"
      },
      "source": [
        "# Import the summarizer\n",
        "from sumy.summarizers.lsa import LsaSummarizer\n",
        "# Parsing the text string using PlaintextParser\n",
        "from sumy.nlp.tokenizers import Tokenizer\n",
        "from sumy.parsers.plaintext import PlaintextParser\n",
        "parser=PlaintextParser.from_string(article_content,Tokenizer('english'))"
      ],
      "execution_count": null,
      "outputs": []
    },
    {
      "cell_type": "code",
      "metadata": {
        "id": "EqkGGe-gWUQM",
        "colab": {
          "base_uri": "https://localhost:8080/"
        },
        "outputId": "78edc210-b6b7-435b-fc91-19a0c4701743"
      },
      "source": [
        "# creating the summarizer\n",
        "lsa_summarizer=LsaSummarizer()\n",
        "lsa_summary= lsa_summarizer(parser.document,3)\n",
        "\n",
        "# Printing the summary\n",
        "for sentence in lsa_summary:\n",
        "    print(sentence)"
      ],
      "execution_count": null,
      "outputs": [
        {
          "output_type": "stream",
          "text": [
            "이 사설은 지난 5월 25일 직업동맹 제8차대회에 보낸 김정은의 서한은 직업동맹이 노동계급과 직맹원들을 전위투사로 키우는 사상교양단체, 새시대의 혁명적 진군을 적극 추동해나가는 전위부대로서의 사명과 임무를 훌륭히 수행해 나갈 수 있게 하는 강령적 지침”이라고 주장했습니다.\n",
            "김정은은 이 서한에서 ①전(全) 동맹을 당의 혁명사상으로 일색화하고, ②동맹원들이 조직규률을 엄수하도록 요구성을 높이며, ③직맹일군들이 뜨거운 동지애, 인간애를 지니고 사업과 생활을 친형제의 심정으로 돌봐줄데 대한 문제”를 ‘동맹사업의 개선방향과 방도’로 제기했다고 전했습니다.\n",
            "이번 사설이 직업동맹의 ‘노동조합’적 고유 역할과 기능을 철저히 부정한 채, 김정은과 당, 조국과 혁명을 위한 사상교양 및 전위활동을 강조한 것은 반(反)노동자계급적 처사가 아닐 수 없습니다.\n"
          ],
          "name": "stdout"
        }
      ]
    },
    {
      "cell_type": "code",
      "metadata": {
        "id": "8_P_bu9xWWaI"
      },
      "source": [
        "# Import the summarizer\n",
        "from sumy.summarizers.luhn import LuhnSummarizer"
      ],
      "execution_count": null,
      "outputs": []
    },
    {
      "cell_type": "code",
      "metadata": {
        "id": "-qJt-IgPXFYK"
      },
      "source": [
        "# Creating the parser\n",
        "from sumy.nlp.tokenizers import Tokenizer\n",
        "from sumy.parsers.plaintext import PlaintextParser\n",
        "parser=PlaintextParser.from_string(article_content,Tokenizer('english'))"
      ],
      "execution_count": null,
      "outputs": []
    },
    {
      "cell_type": "code",
      "metadata": {
        "id": "aIdtmS8iXIGI",
        "colab": {
          "base_uri": "https://localhost:8080/"
        },
        "outputId": "02907621-242c-4d25-aaf1-9ac236b29050"
      },
      "source": [
        "#  Creating the summarizer\n",
        "luhn_summarizer=LuhnSummarizer()\n",
        "luhn_summary=luhn_summarizer(parser.document,sentences_count=3)\n",
        "\n",
        "# Printing the summary\n",
        "for sentence in luhn_summary:\n",
        "  print(sentence)"
      ],
      "execution_count": null,
      "outputs": [
        {
          "output_type": "stream",
          "text": [
            "이 사설은 지난 5월 25일 직업동맹 제8차대회에 보낸 김정은의 서한은 직업동맹이 노동계급과 직맹원들을 전위투사로 키우는 사상교양단체, 새시대의 혁명적 진군을 적극 추동해나가는 전위부대로서의 사명과 임무를 훌륭히 수행해 나갈 수 있게 하는 강령적 지침”이라고 주장했습니다.\n",
            "이번 사설은 직업동맹을 노동계급과 맹원들을 전위투사로 키우는 사상교양단체, 혁명적 진군을 추동하는 전위부대”로 규정해, 직업동맹의  ‘정치적 성격’을 두드러지게 강조했습니다.\n",
            "이번 사설은 김정은의 말을 인용해 직업동맹은 로동계급과 직맹원들을 당에 대한 충실성과 조국과 혁명에 대한 무한한 헌신성, 조직성과 전투력, 단결력을 지닌 전위투사로 키우는 데 모든 사업을 지향시키며, 동맹사업에서 근본적인 전환을 일으켜, 새시대의 혁명적 진군에서 자기의 전투적 위력을 높이 떨쳐야 한다”고 주장했습니다.\n"
          ],
          "name": "stdout"
        }
      ]
    },
    {
      "cell_type": "code",
      "metadata": {
        "id": "v1a0ROjHXKkg"
      },
      "source": [
        "from sumy.summarizers.kl import KLSummarizer"
      ],
      "execution_count": null,
      "outputs": []
    },
    {
      "cell_type": "code",
      "metadata": {
        "id": "GSSvwPH_Xl40"
      },
      "source": [
        "# Creating the parser\n",
        "from sumy.nlp.tokenizers import Tokenizer\n",
        "from sumy.parsers.plaintext import PlaintextParser\n",
        "parser=PlaintextParser.from_string(article_content,Tokenizer('english'))"
      ],
      "execution_count": null,
      "outputs": []
    },
    {
      "cell_type": "code",
      "metadata": {
        "id": "yses3l9dXoFM",
        "colab": {
          "base_uri": "https://localhost:8080/"
        },
        "outputId": "c1748878-d313-4a68-ec66-fadfe1e7f44c"
      },
      "source": [
        "# Instantiating the  KLSummarizer\n",
        "kl_summarizer=KLSummarizer()\n",
        "kl_summary=kl_summarizer(parser.document,sentences_count=3)\n",
        "\n",
        "# Printing the summary\n",
        "for sentence in kl_summary:\n",
        "    print(sentence)"
      ],
      "execution_count": null,
      "outputs": [
        {
          "output_type": "stream",
          "text": [
            "김정은은 이 서한에서 ①전(全) 동맹을 당의 혁명사상으로 일색화하고, ②동맹원들이 조직규률을 엄수하도록 요구성을 높이며, ③직맹일군들이 뜨거운 동지애, 인간애를 지니고 사업과 생활을 친형제의 심정으로 돌봐줄데 대한 문제”를 ‘동맹사업의 개선방향과 방도’로 제기했다고 전했습니다.\n",
            "이번 사설은 김정은의 말을 인용해 직업동맹은 로동계급과 직맹원들을 당에 대한 충실성과 조국과 혁명에 대한 무한한 헌신성, 조직성과 전투력, 단결력을 지닌 전위투사로 키우는 데 모든 사업을 지향시키며, 동맹사업에서 근본적인 전환을 일으켜, 새시대의 혁명적 진군에서 자기의 전투적 위력을 높이 떨쳐야 한다”고 주장했습니다.\n",
            "이번 사설은 직업동맹원들에게 총비서의 사상과 권위를 결사옹위하는데서 맹수가 되고 천겹만겹의 성새, 방패가 되어야 한다”며, 김정은에 대한 일방적인 충성을 촉구했습니다.\n"
          ],
          "name": "stdout"
        }
      ]
    },
    {
      "cell_type": "code",
      "metadata": {
        "id": "wk2VLph3XqxU",
        "colab": {
          "base_uri": "https://localhost:8080/"
        },
        "outputId": "2dbc4660-00ac-4c16-99ff-3ba783f9d990"
      },
      "source": [
        "!pip install transformers"
      ],
      "execution_count": null,
      "outputs": [
        {
          "output_type": "stream",
          "text": [
            "Collecting transformers\n",
            "\u001b[?25l  Downloading https://files.pythonhosted.org/packages/d5/43/cfe4ee779bbd6a678ac6a97c5a5cdeb03c35f9eaebbb9720b036680f9a2d/transformers-4.6.1-py3-none-any.whl (2.2MB)\n",
            "\u001b[K     |████████████████████████████████| 2.3MB 5.0MB/s \n",
            "\u001b[?25hRequirement already satisfied: packaging in /usr/local/lib/python3.7/dist-packages (from transformers) (20.9)\n",
            "Collecting sacremoses\n",
            "\u001b[?25l  Downloading https://files.pythonhosted.org/packages/75/ee/67241dc87f266093c533a2d4d3d69438e57d7a90abb216fa076e7d475d4a/sacremoses-0.0.45-py3-none-any.whl (895kB)\n",
            "\u001b[K     |████████████████████████████████| 901kB 29.2MB/s \n",
            "\u001b[?25hCollecting huggingface-hub==0.0.8\n",
            "  Downloading https://files.pythonhosted.org/packages/a1/88/7b1e45720ecf59c6c6737ff332f41c955963090a18e72acbcbeac6b25e86/huggingface_hub-0.0.8-py3-none-any.whl\n",
            "Requirement already satisfied: numpy>=1.17 in /usr/local/lib/python3.7/dist-packages (from transformers) (1.19.5)\n",
            "Requirement already satisfied: filelock in /usr/local/lib/python3.7/dist-packages (from transformers) (3.0.12)\n",
            "Requirement already satisfied: requests in /usr/local/lib/python3.7/dist-packages (from transformers) (2.23.0)\n",
            "Requirement already satisfied: regex!=2019.12.17 in /usr/local/lib/python3.7/dist-packages (from transformers) (2019.12.20)\n",
            "Collecting tokenizers<0.11,>=0.10.1\n",
            "\u001b[?25l  Downloading https://files.pythonhosted.org/packages/d4/e2/df3543e8ffdab68f5acc73f613de9c2b155ac47f162e725dcac87c521c11/tokenizers-0.10.3-cp37-cp37m-manylinux_2_5_x86_64.manylinux1_x86_64.manylinux_2_12_x86_64.manylinux2010_x86_64.whl (3.3MB)\n",
            "\u001b[K     |████████████████████████████████| 3.3MB 43.2MB/s \n",
            "\u001b[?25hRequirement already satisfied: importlib-metadata; python_version < \"3.8\" in /usr/local/lib/python3.7/dist-packages (from transformers) (4.0.1)\n",
            "Requirement already satisfied: tqdm>=4.27 in /usr/local/lib/python3.7/dist-packages (from transformers) (4.41.1)\n",
            "Requirement already satisfied: pyparsing>=2.0.2 in /usr/local/lib/python3.7/dist-packages (from packaging->transformers) (2.4.7)\n",
            "Requirement already satisfied: six in /usr/local/lib/python3.7/dist-packages (from sacremoses->transformers) (1.15.0)\n",
            "Requirement already satisfied: joblib in /usr/local/lib/python3.7/dist-packages (from sacremoses->transformers) (1.0.1)\n",
            "Requirement already satisfied: click in /usr/local/lib/python3.7/dist-packages (from sacremoses->transformers) (7.1.2)\n",
            "Requirement already satisfied: idna<3,>=2.5 in /usr/local/lib/python3.7/dist-packages (from requests->transformers) (2.10)\n",
            "Requirement already satisfied: chardet<4,>=3.0.2 in /usr/local/lib/python3.7/dist-packages (from requests->transformers) (3.0.4)\n",
            "Requirement already satisfied: certifi>=2017.4.17 in /usr/local/lib/python3.7/dist-packages (from requests->transformers) (2020.12.5)\n",
            "Requirement already satisfied: urllib3!=1.25.0,!=1.25.1,<1.26,>=1.21.1 in /usr/local/lib/python3.7/dist-packages (from requests->transformers) (1.24.3)\n",
            "Requirement already satisfied: typing-extensions>=3.6.4; python_version < \"3.8\" in /usr/local/lib/python3.7/dist-packages (from importlib-metadata; python_version < \"3.8\"->transformers) (3.7.4.3)\n",
            "Requirement already satisfied: zipp>=0.5 in /usr/local/lib/python3.7/dist-packages (from importlib-metadata; python_version < \"3.8\"->transformers) (3.4.1)\n",
            "Installing collected packages: sacremoses, huggingface-hub, tokenizers, transformers\n",
            "Successfully installed huggingface-hub-0.0.8 sacremoses-0.0.45 tokenizers-0.10.3 transformers-4.6.1\n"
          ],
          "name": "stdout"
        }
      ]
    },
    {
      "cell_type": "code",
      "metadata": {
        "id": "pOG4rfutX66g"
      },
      "source": [
        ""
      ],
      "execution_count": null,
      "outputs": []
    }
  ]
}