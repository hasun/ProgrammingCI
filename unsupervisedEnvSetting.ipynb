{
  "nbformat": 4,
  "nbformat_minor": 0,
  "metadata": {
    "colab": {
      "name": "unsupervisedEnvSetting.ipynb",
      "private_outputs": true,
      "provenance": [],
      "authorship_tag": "ABX9TyOOjnt7BmVuPHMaIEuXvMBv",
      "include_colab_link": true
    },
    "kernelspec": {
      "name": "python3",
      "display_name": "Python 3"
    },
    "language_info": {
      "name": "python"
    },
    "accelerator": "GPU"
  },
  "cells": [
    {
      "cell_type": "markdown",
      "metadata": {
        "id": "view-in-github",
        "colab_type": "text"
      },
      "source": [
        "<a href=\"https://colab.research.google.com/github/hasun/ProgrammingCI/blob/master/unsupervisedEnvSetting.ipynb\" target=\"_parent\"><img src=\"https://colab.research.google.com/assets/colab-badge.svg\" alt=\"Open In Colab\"/></a>"
      ]
    },
    {
      "cell_type": "code",
      "source": [
        "!git clone https://github.com/francis-kang/handson-unsupervised-learning.git"
      ],
      "metadata": {
        "id": "YHzn7M9exYou"
      },
      "execution_count": null,
      "outputs": []
    },
    {
      "cell_type": "code",
      "source": [
        "cd /content"
      ],
      "metadata": {
        "id": "XEnx4J2e6dAe"
      },
      "execution_count": null,
      "outputs": []
    },
    {
      "cell_type": "code",
      "source": [
        "!git lfs pull"
      ],
      "metadata": {
        "id": "ZxhWDtgM6Y_g"
      },
      "execution_count": null,
      "outputs": []
    },
    {
      "cell_type": "code",
      "execution_count": null,
      "metadata": {
        "id": "6NARtpnDdIQt"
      },
      "outputs": [],
      "source": [
        "!python --version"
      ]
    },
    {
      "cell_type": "code",
      "source": [
        "!wget https://www.python.org/ftp/python/3.6.15/Python-3.6.15.tgz\n",
        "!tar xvfz Python-3.6.15.tgz"
      ],
      "metadata": {
        "id": "wZ4prs_2dJqP"
      },
      "execution_count": null,
      "outputs": []
    },
    {
      "cell_type": "code",
      "source": [
        "cd Python-3.6.15"
      ],
      "metadata": {
        "id": "c2nkdyPjeZv3"
      },
      "execution_count": null,
      "outputs": []
    },
    {
      "cell_type": "code",
      "source": [
        "!./configure \n",
        "!make \n",
        "!sudo make install"
      ],
      "metadata": {
        "id": "mDDAsaxfe1fe"
      },
      "execution_count": null,
      "outputs": []
    },
    {
      "cell_type": "code",
      "source": [
        "!python --version"
      ],
      "metadata": {
        "id": "4Wk4ydeHfeLI"
      },
      "execution_count": null,
      "outputs": []
    },
    {
      "cell_type": "code",
      "source": [
        "cd /content/handson-unsupervised-learning"
      ],
      "metadata": {
        "id": "DEmv2EsbyxMl"
      },
      "execution_count": null,
      "outputs": []
    },
    {
      "cell_type": "code",
      "source": [
        "!pip install tensorflow"
      ],
      "metadata": {
        "id": "14XcMUOxf7HX"
      },
      "execution_count": null,
      "outputs": []
    },
    {
      "cell_type": "code",
      "source": [
        "!pip install keras\n",
        "!pip install xgboost==0.81\n",
        "!pip install lightgbm\n",
        "!pip install fastcluster\n",
        "!pip install hdbscan\n",
        "!pip install tslearn"
      ],
      "metadata": {
        "id": "4qknWTJGsn2T"
      },
      "execution_count": null,
      "outputs": []
    },
    {
      "cell_type": "code",
      "source": [
        "'''메인 라이브러리'''\n",
        "import numpy as np\n",
        "import pandas as pd\n",
        "import os\n",
        "\n",
        "'''시각화 관련 라이브러리'''\n",
        "import matplotlib.pyplot as plt\n",
        "import seaborn as sns\n",
        "color = sns.color_palette()\n",
        "import matplotlib as mpl\n",
        "\n",
        "%matplotlib inline\n",
        "\n",
        "'''데이터 준비 관련 라이브러'''\n",
        "from sklearn import preprocessing as pp \n",
        "from scipy.stats import pearsonr \n",
        "from sklearn.model_selection import train_test_split\n",
        "from sklearn.model_selection import StratifiedKFold \n",
        "from sklearn.metrics import log_loss \n",
        "from sklearn.metrics import precision_recall_curve, average_precision_score \n",
        "from sklearn.metrics import roc_curve, auc, roc_auc_score\n",
        "from sklearn.metrics import confusion_matrix, classification_report \n",
        "\n",
        "'''알고리즘 관련 라이브러'''\n",
        "from sklearn.linear_model import LogisticRegression\n",
        "from sklearn.ensemble import RandomForestClassifier\n",
        "import xgboost as xgb\n",
        "import lightgbm as lgb"
      ],
      "metadata": {
        "id": "Hk5J0nB35gmy"
      },
      "execution_count": null,
      "outputs": []
    },
    {
      "cell_type": "code",
      "source": [
        "# 데이터 수집\n",
        "current_path = os.getcwd()\n",
        "file = os.path.sep.join(['', 'datasets', 'credit_card_data', 'credit_card.csv'])\n",
        "data = pd.read_csv(current_path + file)"
      ],
      "metadata": {
        "id": "DPONef-a58pm"
      },
      "execution_count": null,
      "outputs": []
    },
    {
      "cell_type": "code",
      "source": [
        "# 데이터 탐색\n",
        "data.shape"
      ],
      "metadata": {
        "id": "C2y4Y0Dz6BJW"
      },
      "execution_count": null,
      "outputs": []
    },
    {
      "cell_type": "code",
      "source": [
        "data.head()"
      ],
      "metadata": {
        "id": "LBQKvZxB6F12"
      },
      "execution_count": null,
      "outputs": []
    },
    {
      "cell_type": "code",
      "source": [
        ""
      ],
      "metadata": {
        "id": "U6kvLfzm6JXd"
      },
      "execution_count": null,
      "outputs": []
    }
  ]
}